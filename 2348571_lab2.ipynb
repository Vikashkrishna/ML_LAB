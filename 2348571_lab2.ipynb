{
  "nbformat": 4,
  "nbformat_minor": 0,
  "metadata": {
    "colab": {
      "provenance": [],
      "authorship_tag": "ABX9TyM9WsPvzpLYJfhbq5cLEDGi",
      "include_colab_link": true
    },
    "kernelspec": {
      "name": "python3",
      "display_name": "Python 3"
    },
    "language_info": {
      "name": "python"
    }
  },
  "cells": [
    {
      "cell_type": "markdown",
      "metadata": {
        "id": "view-in-github",
        "colab_type": "text"
      },
      "source": [
        "<a href=\"https://colab.research.google.com/github/Vikashkrishna/ML_LAB/blob/main/2348571_lab2.ipynb\" target=\"_parent\"><img src=\"https://colab.research.google.com/assets/colab-badge.svg\" alt=\"Open In Colab\"/></a>"
      ]
    },
    {
      "cell_type": "code",
      "source": [
        "import pandas as pd\n",
        "import numpy as np\n",
        "import matplotlib.pyplot as plt\n",
        "from sklearn.preprocessing import LabelEncoder"
      ],
      "metadata": {
        "id": "i_SqlsPe3gHo"
      },
      "execution_count": null,
      "outputs": []
    },
    {
      "cell_type": "code",
      "source": [
        "df=pd.read_csv('/content/customer_shopping_data.csv')\n",
        "df.head()"
      ],
      "metadata": {
        "colab": {
          "base_uri": "https://localhost:8080/",
          "height": 206
        },
        "id": "lyJZkcJq3pUt",
        "outputId": "3296feb7-0fed-4355-fa3f-336fb8e77236"
      },
      "execution_count": null,
      "outputs": [
        {
          "output_type": "execute_result",
          "data": {
            "text/plain": [
              "  invoice_no customer_id  gender  age  category  quantity    price  \\\n",
              "0    I138884     C241288  Female   28  Clothing         5  1500.40   \n",
              "1    I317333     C111565    Male   21     Shoes         3  1800.51   \n",
              "2    I127801     C266599    Male   20  Clothing         1   300.08   \n",
              "3    I173702     C988172  Female   66     Shoes         5  3000.85   \n",
              "4    I337046     C189076  Female   53     Books         4    60.60   \n",
              "\n",
              "  payment_method invoice_date   shopping_mall  \n",
              "0    Credit Card     5/8/2022          Kanyon  \n",
              "1     Debit Card   12/12/2021  Forum Istanbul  \n",
              "2           Cash    9/11/2021       Metrocity  \n",
              "3    Credit Card   16/05/2021    Metropol AVM  \n",
              "4           Cash   24/10/2021          Kanyon  "
            ],
            "text/html": [
              "\n",
              "  <div id=\"df-aa9ecb61-56a5-4a16-85ba-8a1fed83def8\" class=\"colab-df-container\">\n",
              "    <div>\n",
              "<style scoped>\n",
              "    .dataframe tbody tr th:only-of-type {\n",
              "        vertical-align: middle;\n",
              "    }\n",
              "\n",
              "    .dataframe tbody tr th {\n",
              "        vertical-align: top;\n",
              "    }\n",
              "\n",
              "    .dataframe thead th {\n",
              "        text-align: right;\n",
              "    }\n",
              "</style>\n",
              "<table border=\"1\" class=\"dataframe\">\n",
              "  <thead>\n",
              "    <tr style=\"text-align: right;\">\n",
              "      <th></th>\n",
              "      <th>invoice_no</th>\n",
              "      <th>customer_id</th>\n",
              "      <th>gender</th>\n",
              "      <th>age</th>\n",
              "      <th>category</th>\n",
              "      <th>quantity</th>\n",
              "      <th>price</th>\n",
              "      <th>payment_method</th>\n",
              "      <th>invoice_date</th>\n",
              "      <th>shopping_mall</th>\n",
              "    </tr>\n",
              "  </thead>\n",
              "  <tbody>\n",
              "    <tr>\n",
              "      <th>0</th>\n",
              "      <td>I138884</td>\n",
              "      <td>C241288</td>\n",
              "      <td>Female</td>\n",
              "      <td>28</td>\n",
              "      <td>Clothing</td>\n",
              "      <td>5</td>\n",
              "      <td>1500.40</td>\n",
              "      <td>Credit Card</td>\n",
              "      <td>5/8/2022</td>\n",
              "      <td>Kanyon</td>\n",
              "    </tr>\n",
              "    <tr>\n",
              "      <th>1</th>\n",
              "      <td>I317333</td>\n",
              "      <td>C111565</td>\n",
              "      <td>Male</td>\n",
              "      <td>21</td>\n",
              "      <td>Shoes</td>\n",
              "      <td>3</td>\n",
              "      <td>1800.51</td>\n",
              "      <td>Debit Card</td>\n",
              "      <td>12/12/2021</td>\n",
              "      <td>Forum Istanbul</td>\n",
              "    </tr>\n",
              "    <tr>\n",
              "      <th>2</th>\n",
              "      <td>I127801</td>\n",
              "      <td>C266599</td>\n",
              "      <td>Male</td>\n",
              "      <td>20</td>\n",
              "      <td>Clothing</td>\n",
              "      <td>1</td>\n",
              "      <td>300.08</td>\n",
              "      <td>Cash</td>\n",
              "      <td>9/11/2021</td>\n",
              "      <td>Metrocity</td>\n",
              "    </tr>\n",
              "    <tr>\n",
              "      <th>3</th>\n",
              "      <td>I173702</td>\n",
              "      <td>C988172</td>\n",
              "      <td>Female</td>\n",
              "      <td>66</td>\n",
              "      <td>Shoes</td>\n",
              "      <td>5</td>\n",
              "      <td>3000.85</td>\n",
              "      <td>Credit Card</td>\n",
              "      <td>16/05/2021</td>\n",
              "      <td>Metropol AVM</td>\n",
              "    </tr>\n",
              "    <tr>\n",
              "      <th>4</th>\n",
              "      <td>I337046</td>\n",
              "      <td>C189076</td>\n",
              "      <td>Female</td>\n",
              "      <td>53</td>\n",
              "      <td>Books</td>\n",
              "      <td>4</td>\n",
              "      <td>60.60</td>\n",
              "      <td>Cash</td>\n",
              "      <td>24/10/2021</td>\n",
              "      <td>Kanyon</td>\n",
              "    </tr>\n",
              "  </tbody>\n",
              "</table>\n",
              "</div>\n",
              "    <div class=\"colab-df-buttons\">\n",
              "\n",
              "  <div class=\"colab-df-container\">\n",
              "    <button class=\"colab-df-convert\" onclick=\"convertToInteractive('df-aa9ecb61-56a5-4a16-85ba-8a1fed83def8')\"\n",
              "            title=\"Convert this dataframe to an interactive table.\"\n",
              "            style=\"display:none;\">\n",
              "\n",
              "  <svg xmlns=\"http://www.w3.org/2000/svg\" height=\"24px\" viewBox=\"0 -960 960 960\">\n",
              "    <path d=\"M120-120v-720h720v720H120Zm60-500h600v-160H180v160Zm220 220h160v-160H400v160Zm0 220h160v-160H400v160ZM180-400h160v-160H180v160Zm440 0h160v-160H620v160ZM180-180h160v-160H180v160Zm440 0h160v-160H620v160Z\"/>\n",
              "  </svg>\n",
              "    </button>\n",
              "\n",
              "  <style>\n",
              "    .colab-df-container {\n",
              "      display:flex;\n",
              "      gap: 12px;\n",
              "    }\n",
              "\n",
              "    .colab-df-convert {\n",
              "      background-color: #E8F0FE;\n",
              "      border: none;\n",
              "      border-radius: 50%;\n",
              "      cursor: pointer;\n",
              "      display: none;\n",
              "      fill: #1967D2;\n",
              "      height: 32px;\n",
              "      padding: 0 0 0 0;\n",
              "      width: 32px;\n",
              "    }\n",
              "\n",
              "    .colab-df-convert:hover {\n",
              "      background-color: #E2EBFA;\n",
              "      box-shadow: 0px 1px 2px rgba(60, 64, 67, 0.3), 0px 1px 3px 1px rgba(60, 64, 67, 0.15);\n",
              "      fill: #174EA6;\n",
              "    }\n",
              "\n",
              "    .colab-df-buttons div {\n",
              "      margin-bottom: 4px;\n",
              "    }\n",
              "\n",
              "    [theme=dark] .colab-df-convert {\n",
              "      background-color: #3B4455;\n",
              "      fill: #D2E3FC;\n",
              "    }\n",
              "\n",
              "    [theme=dark] .colab-df-convert:hover {\n",
              "      background-color: #434B5C;\n",
              "      box-shadow: 0px 1px 3px 1px rgba(0, 0, 0, 0.15);\n",
              "      filter: drop-shadow(0px 1px 2px rgba(0, 0, 0, 0.3));\n",
              "      fill: #FFFFFF;\n",
              "    }\n",
              "  </style>\n",
              "\n",
              "    <script>\n",
              "      const buttonEl =\n",
              "        document.querySelector('#df-aa9ecb61-56a5-4a16-85ba-8a1fed83def8 button.colab-df-convert');\n",
              "      buttonEl.style.display =\n",
              "        google.colab.kernel.accessAllowed ? 'block' : 'none';\n",
              "\n",
              "      async function convertToInteractive(key) {\n",
              "        const element = document.querySelector('#df-aa9ecb61-56a5-4a16-85ba-8a1fed83def8');\n",
              "        const dataTable =\n",
              "          await google.colab.kernel.invokeFunction('convertToInteractive',\n",
              "                                                    [key], {});\n",
              "        if (!dataTable) return;\n",
              "\n",
              "        const docLinkHtml = 'Like what you see? Visit the ' +\n",
              "          '<a target=\"_blank\" href=https://colab.research.google.com/notebooks/data_table.ipynb>data table notebook</a>'\n",
              "          + ' to learn more about interactive tables.';\n",
              "        element.innerHTML = '';\n",
              "        dataTable['output_type'] = 'display_data';\n",
              "        await google.colab.output.renderOutput(dataTable, element);\n",
              "        const docLink = document.createElement('div');\n",
              "        docLink.innerHTML = docLinkHtml;\n",
              "        element.appendChild(docLink);\n",
              "      }\n",
              "    </script>\n",
              "  </div>\n",
              "\n",
              "\n",
              "<div id=\"df-8241f868-f532-490b-8386-32b94593e686\">\n",
              "  <button class=\"colab-df-quickchart\" onclick=\"quickchart('df-8241f868-f532-490b-8386-32b94593e686')\"\n",
              "            title=\"Suggest charts.\"\n",
              "            style=\"display:none;\">\n",
              "\n",
              "<svg xmlns=\"http://www.w3.org/2000/svg\" height=\"24px\"viewBox=\"0 0 24 24\"\n",
              "     width=\"24px\">\n",
              "    <g>\n",
              "        <path d=\"M19 3H5c-1.1 0-2 .9-2 2v14c0 1.1.9 2 2 2h14c1.1 0 2-.9 2-2V5c0-1.1-.9-2-2-2zM9 17H7v-7h2v7zm4 0h-2V7h2v10zm4 0h-2v-4h2v4z\"/>\n",
              "    </g>\n",
              "</svg>\n",
              "  </button>\n",
              "\n",
              "<style>\n",
              "  .colab-df-quickchart {\n",
              "    background-color: #E8F0FE;\n",
              "    border: none;\n",
              "    border-radius: 50%;\n",
              "    cursor: pointer;\n",
              "    display: none;\n",
              "    fill: #1967D2;\n",
              "    height: 32px;\n",
              "    padding: 0 0 0 0;\n",
              "    width: 32px;\n",
              "  }\n",
              "\n",
              "  .colab-df-quickchart:hover {\n",
              "    background-color: #E2EBFA;\n",
              "    box-shadow: 0px 1px 2px rgba(60, 64, 67, 0.3), 0px 1px 3px 1px rgba(60, 64, 67, 0.15);\n",
              "    fill: #174EA6;\n",
              "  }\n",
              "\n",
              "  [theme=dark] .colab-df-quickchart {\n",
              "    background-color: #3B4455;\n",
              "    fill: #D2E3FC;\n",
              "  }\n",
              "\n",
              "  [theme=dark] .colab-df-quickchart:hover {\n",
              "    background-color: #434B5C;\n",
              "    box-shadow: 0px 1px 3px 1px rgba(0, 0, 0, 0.15);\n",
              "    filter: drop-shadow(0px 1px 2px rgba(0, 0, 0, 0.3));\n",
              "    fill: #FFFFFF;\n",
              "  }\n",
              "</style>\n",
              "\n",
              "  <script>\n",
              "    async function quickchart(key) {\n",
              "      const charts = await google.colab.kernel.invokeFunction(\n",
              "          'suggestCharts', [key], {});\n",
              "    }\n",
              "    (() => {\n",
              "      let quickchartButtonEl =\n",
              "        document.querySelector('#df-8241f868-f532-490b-8386-32b94593e686 button');\n",
              "      quickchartButtonEl.style.display =\n",
              "        google.colab.kernel.accessAllowed ? 'block' : 'none';\n",
              "    })();\n",
              "  </script>\n",
              "</div>\n",
              "    </div>\n",
              "  </div>\n"
            ]
          },
          "metadata": {},
          "execution_count": 2
        }
      ]
    },
    {
      "cell_type": "code",
      "source": [
        "df.isnull().sum()"
      ],
      "metadata": {
        "colab": {
          "base_uri": "https://localhost:8080/"
        },
        "id": "1wF-wget5JOH",
        "outputId": "b50684b4-84b5-4f31-fb28-0848fce7e228"
      },
      "execution_count": null,
      "outputs": [
        {
          "output_type": "execute_result",
          "data": {
            "text/plain": [
              "invoice_no        0\n",
              "customer_id       0\n",
              "gender            0\n",
              "age               0\n",
              "category          0\n",
              "quantity          0\n",
              "price             1\n",
              "payment_method    1\n",
              "invoice_date      1\n",
              "shopping_mall     1\n",
              "dtype: int64"
            ]
          },
          "metadata": {},
          "execution_count": 3
        }
      ]
    },
    {
      "cell_type": "code",
      "source": [
        "df['quantity'].fillna(0, inplace=True)"
      ],
      "metadata": {
        "id": "71QlWxrI5PcX"
      },
      "execution_count": null,
      "outputs": []
    },
    {
      "cell_type": "code",
      "source": [
        "df['price'].fillna(0, inplace=True)"
      ],
      "metadata": {
        "id": "AJTq6dA55VA0"
      },
      "execution_count": null,
      "outputs": []
    },
    {
      "cell_type": "code",
      "source": [
        "df['payment_method'].fillna(0, inplace=True)"
      ],
      "metadata": {
        "id": "VJ110crL5XsG"
      },
      "execution_count": null,
      "outputs": []
    },
    {
      "cell_type": "code",
      "source": [
        "df['invoice_date'].fillna(0, inplace=True)"
      ],
      "metadata": {
        "id": "nXQ8KIEL5aI4"
      },
      "execution_count": null,
      "outputs": []
    },
    {
      "cell_type": "code",
      "source": [
        "df['gender'].fillna(0,inplace=True)\n",
        "df['age'].fillna(0,inplace=True)\n",
        "df['category'].fillna(0,inplace=True)"
      ],
      "metadata": {
        "id": "ju03XV3O5fk4"
      },
      "execution_count": null,
      "outputs": []
    },
    {
      "cell_type": "code",
      "source": [
        "df.isnull().sum()"
      ],
      "metadata": {
        "colab": {
          "base_uri": "https://localhost:8080/"
        },
        "id": "H17ATxcr5gz7",
        "outputId": "403b95f8-b4c0-4b59-e160-0cd7641829be"
      },
      "execution_count": null,
      "outputs": [
        {
          "output_type": "execute_result",
          "data": {
            "text/plain": [
              "invoice_no        0\n",
              "customer_id       0\n",
              "gender            0\n",
              "age               0\n",
              "category          0\n",
              "quantity          0\n",
              "price             0\n",
              "payment_method    0\n",
              "invoice_date      0\n",
              "shopping_mall     1\n",
              "dtype: int64"
            ]
          },
          "metadata": {},
          "execution_count": 9
        }
      ]
    },
    {
      "cell_type": "code",
      "source": [
        "age_bins=[0,18,25,35,45,float('inf')]\n",
        "age_labels=['<18','18-25','26-35','36-45','46+']\n",
        "df['AgeGroup']=pd.cut(df['age'],bins=age_bins,labels=age_labels,right=False)\n",
        "print(df[['age','AgeGroup']])"
      ],
      "metadata": {
        "colab": {
          "base_uri": "https://localhost:8080/"
        },
        "id": "Sd_nH4fZ5oMr",
        "outputId": "435ba246-ba93-45cb-aab5-355496d72f58"
      },
      "execution_count": null,
      "outputs": [
        {
          "output_type": "stream",
          "name": "stdout",
          "text": [
            "       age AgeGroup\n",
            "0       28    26-35\n",
            "1       21    18-25\n",
            "2       20    18-25\n",
            "3       66      46+\n",
            "4       53      46+\n",
            "...    ...      ...\n",
            "82953   65      46+\n",
            "82954   49      46+\n",
            "82955   54      46+\n",
            "82956   40    36-45\n",
            "82957   63      46+\n",
            "\n",
            "[82958 rows x 2 columns]\n"
          ]
        }
      ]
    },
    {
      "cell_type": "code",
      "source": [
        "age_group_counts = df['AgeGroup'].value_counts()\n",
        "plt.bar(age_group_counts.index, age_group_counts.values)\n",
        "plt.xlabel(\"Age Groups\")\n",
        "plt.ylabel(\"Counts\")\n",
        "plt.title(\"Distribution of Age Groups\")\n",
        "plt.xticks(rotation=45)\n",
        "plt.tight_layout()\n",
        "plt.show()\n"
      ],
      "metadata": {
        "colab": {
          "base_uri": "https://localhost:8080/",
          "height": 487
        },
        "id": "MKRmupxh5woO",
        "outputId": "b526a7e9-11ca-436c-f92c-04dad57f6fe4"
      },
      "execution_count": null,
      "outputs": [
        {
          "output_type": "display_data",
          "data": {
            "text/plain": [
              "<Figure size 640x480 with 1 Axes>"
            ],
            "image/png": "[encoded data removed]"
          },
          "metadata": {}
        }
      ]
    },
    {
      "cell_type": "code",
      "source": [
        "df_encoded = pd.get_dummies(df, columns=[\"gender\", \"category\"])\n",
        "print(df_encoded)\n"
      ],
      "metadata": {
        "colab": {
          "base_uri": "https://localhost:8080/"
        },
        "id": "qHKSU_sy5_XX",
        "outputId": "f23d2e92-2394-4aa3-b8d4-61b578a23f2b"
      },
      "execution_count": null,
      "outputs": [
        {
          "output_type": "stream",
          "name": "stdout",
          "text": [
            "      invoice_no customer_id  age  quantity    price payment_method  \\\n",
            "0        I138884     C241288   28         5  1500.40    Credit Card   \n",
            "1        I317333     C111565   21         3  1800.51     Debit Card   \n",
            "2        I127801     C266599   20         1   300.08           Cash   \n",
            "3        I173702     C988172   66         5  3000.85    Credit Card   \n",
            "4        I337046     C189076   53         4    60.60           Cash   \n",
            "...          ...         ...  ...       ...      ...            ...   \n",
            "82953    I208295     C134550   65         3   900.24           Cash   \n",
            "82954    I786287     C145147   49         4   162.64     Debit Card   \n",
            "82955    I236025     C315383   54         4   143.36     Debit Card   \n",
            "82956    I720740     C153048   40         3  1800.51    Credit Card   \n",
            "82957    I997877     C188564   63         4     0.00              0   \n",
            "\n",
            "      invoice_date      shopping_mall AgeGroup  gender_Female  gender_Male  \\\n",
            "0         5/8/2022             Kanyon    26-35              1            0   \n",
            "1       12/12/2021     Forum Istanbul    18-25              0            1   \n",
            "2        9/11/2021          Metrocity    18-25              0            1   \n",
            "3       16/05/2021       Metropol AVM      46+              1            0   \n",
            "4       24/10/2021             Kanyon      46+              1            0   \n",
            "...            ...                ...      ...            ...          ...   \n",
            "82953     1/2/2021        Cevahir AVM      46+              1            0   \n",
            "82954     5/2/2023       Istinye Park      46+              0            1   \n",
            "82955   25/12/2022  Emaar Square Mall      46+              1            0   \n",
            "82956   28/01/2021       Istinye Park    36-45              1            0   \n",
            "82957            0                NaN      46+              1            0   \n",
            "\n",
            "       category_Books  category_Clothing  category_Cosmetics  \\\n",
            "0                   0                  1                   0   \n",
            "1                   0                  0                   0   \n",
            "2                   0                  1                   0   \n",
            "3                   0                  0                   0   \n",
            "4                   1                  0                   0   \n",
            "...               ...                ...                 ...   \n",
            "82953               0                  1                   0   \n",
            "82954               0                  0                   1   \n",
            "82955               0                  0                   0   \n",
            "82956               0                  0                   0   \n",
            "82957               0                  0                   0   \n",
            "\n",
            "       category_Food & Beverage  category_Shoes  category_Souvenir  \\\n",
            "0                             0               0                  0   \n",
            "1                             0               1                  0   \n",
            "2                             0               0                  0   \n",
            "3                             0               1                  0   \n",
            "4                             0               0                  0   \n",
            "...                         ...             ...                ...   \n",
            "82953                         0               0                  0   \n",
            "82954                         0               0                  0   \n",
            "82955                         0               0                  0   \n",
            "82956                         0               1                  0   \n",
            "82957                         0               1                  0   \n",
            "\n",
            "       category_Technology  category_Toys  \n",
            "0                        0              0  \n",
            "1                        0              0  \n",
            "2                        0              0  \n",
            "3                        0              0  \n",
            "4                        0              0  \n",
            "...                    ...            ...  \n",
            "82953                    0              0  \n",
            "82954                    0              0  \n",
            "82955                    0              1  \n",
            "82956                    0              0  \n",
            "82957                    0              0  \n",
            "\n",
            "[82958 rows x 19 columns]\n"
          ]
        }
      ]
    },
    {
      "cell_type": "code",
      "source": [
        "age = df['age']\n",
        "category_columns = df[['quantity']]\n",
        "covariance_matrix = np.cov(age, category_columns, rowvar=False)\n",
        "print(\"Covariance Matrix:\")\n",
        "print(covariance_matrix)"
      ],
      "metadata": {
        "colab": {
          "base_uri": "https://localhost:8080/"
        },
        "id": "CEAxZIs-6FOZ",
        "outputId": "051e556e-b2fd-405b-a960-13324f571050"
      },
      "execution_count": null,
      "outputs": [
        {
          "output_type": "stream",
          "name": "stdout",
          "text": [
            "Covariance Matrix:\n",
            "[[2.24787427e+02 2.50049515e-02]\n",
            " [2.50049515e-02 1.99743581e+00]]\n"
          ]
        }
      ]
    },
    {
      "cell_type": "code",
      "source": [
        "import numpy as np\n",
        "import seaborn as sns\n",
        "import matplotlib.pyplot as plt\n",
        "feature_names = ['Age', 'Category']\n",
        "plt.figure(figsize=(10, 8))\n",
        "heatmap = sns.heatmap(covariance_matrix, annot=True, fmt=\".2f\", cmap=\"coolwarm\", square=True)\n",
        "heatmap.set_xticklabels(feature_names, rotation=45, ha='right')\n",
        "heatmap.set_yticklabels(feature_names, rotation=0)\n",
        "plt.title(\"Covariance Matrix Heatmap\")\n",
        "plt.show()"
      ],
      "metadata": {
        "colab": {
          "base_uri": "https://localhost:8080/",
          "height": 740
        },
        "id": "C1ofmWPx6Qv5",
        "outputId": "e8e06fb6-044e-4ea8-c726-b6060befe83f"
      },
      "execution_count": null,
      "outputs": [
        {
          "output_type": "display_data",
          "data": {
            "text/plain": [
              "<Figure size 1000x800 with 2 Axes>"
            ],
            "image/png": "[encoded data removed]"
          },
          "metadata": {}
        }
      ]
    },
    {
      "cell_type": "code",
      "source": [
        "from scipy.stats import chi2_contingency\n",
        "contingency_table = pd.crosstab(df['gender'], df['category'])\n",
        "chi2_stat, p_val, dof, expected = chi2_contingency(contingency_table)\n",
        "print(\"Chi-Square Statistic:\", chi2_stat)\n",
        "print(\"P-value:\", p_val)\n",
        "print(\"Expected-value:\",expected)"
      ],
      "metadata": {
        "colab": {
          "base_uri": "https://localhost:8080/"
        },
        "id": "MQnxTWQH6ZGm",
        "outputId": "32fddef3-5dd7-40dd-85d2-f816ccd45864"
      },
      "execution_count": null,
      "outputs": [
        {
          "output_type": "stream",
          "name": "stdout",
          "text": [
            "Chi-Square Statistic: 8.948404759587373\n",
            "P-value: 0.25638164178004563\n",
            "Expected-value: [[ 2496.38496589 17161.60100292  7514.84770607  7365.47091299\n",
            "   5023.24279756  2485.62983678  2506.54258782  5014.28018998]\n",
            " [ 1681.61503411 11560.39899708  5062.15229393  4961.52908701\n",
            "   3383.75720244  1674.37016322  1688.45741218  3377.71981002]]\n"
          ]
        }
      ]
    },
    {
      "cell_type": "code",
      "source": [
        "contingency_table.plot(kind=\"bar\", stacked=True)\n",
        "plt.title(\"Category Distribution by Gender\")\n",
        "plt.xlabel(\"Gender\")\n",
        "plt.ylabel(\"Count\")\n",
        "plt.xticks(rotation=0)\n",
        "plt.legend(title=\"Category\")\n",
        "plt.show()\n",
        "print(\"Chi-Square Statistic:\",chi2_stat)\n",
        "print(\"p-value:\", p_val)"
      ],
      "metadata": {
        "colab": {
          "base_uri": "https://localhost:8080/",
          "height": 507
        },
        "id": "1qqFL7rd6gTY",
        "outputId": "b0c58d44-da86-4762-b4a8-7f6a9bc8b98d"
      },
      "execution_count": null,
      "outputs": [
        {
          "output_type": "display_data",
          "data": {
            "text/plain": [
              "<Figure size 640x480 with 1 Axes>"
            ],
            "image/png": "[encoded data removed]"
          },
          "metadata": {}
        },
        {
          "output_type": "stream",
          "name": "stdout",
          "text": [
            "Chi-Square Statistic: 8.948404759587373\n",
            "p-value: 0.25638164178004563\n"
          ]
        }
      ]
    },
    {
      "cell_type": "code",
      "source": [
        "from scipy.stats import ttest_ind\n",
        "male_data = df[df[\"gender\"] == \"Male\"][\"price\"]\n",
        "female_data = df[df[\"gender\"] == \"Female\"][\"price\"]\n",
        "t_statistic, p_value = ttest_ind(male_data, female_data)\n",
        "print(\"T-Statistic:\", t_statistic)\n",
        "print(\"p-value:\", p_value)\n",
        "if p_value < 0.05:\n",
        "    print(\"Reject null hypothesis: The means are significantly different.\")\n",
        "else:\n",
        "    print(\"Fail to reject null hypothesis: The means are not significantly different.\")"
      ],
      "metadata": {
        "colab": {
          "base_uri": "https://localhost:8080/"
        },
        "id": "jCwHebcl6mDd",
        "outputId": "180f97ec-f304-4a79-d4de-d5d5c968a10d"
      },
      "execution_count": null,
      "outputs": [
        {
          "output_type": "stream",
          "name": "stdout",
          "text": [
            "T-Statistic: 0.203936782089111\n",
            "p-value: 0.8384034013568725\n",
            "Fail to reject null hypothesis: The means are not significantly different.\n"
          ]
        }
      ]
    },
    {
      "cell_type": "code",
      "source": [
        "plt.boxplot([male_data, female_data], labels=[\"Male\", \"Female\"])\n",
        "plt.title(\"Purchase Amount by Gender\")\n",
        "plt.ylabel(\"Purchase Amount\")\n",
        "plt.show()\n",
        "\n",
        "print(\"T-Statistic:\", t_statistic)\n",
        "print(\"p-value:\", p_value)\n",
        "\n",
        "if p_value < 0.05:\n",
        "    print(\"Reject null hypothesis: The means are significantly different.\")\n",
        "else:\n",
        "    print(\"Fail to reject null hypothesis: The means are not significantly different.\")\n"
      ],
      "metadata": {
        "colab": {
          "base_uri": "https://localhost:8080/",
          "height": 504
        },
        "id": "vXk8LFMi6tHs",
        "outputId": "5540cf0d-af68-44b1-d3ed-f251e02a4bbc"
      },
      "execution_count": null,
      "outputs": [
        {
          "output_type": "display_data",
          "data": {
            "text/plain": [
              "<Figure size 640x480 with 1 Axes>"
            ],
            "image/png": "[encoded data removed]"
          },
          "metadata": {}
        },
        {
          "output_type": "stream",
          "name": "stdout",
          "text": [
            "T-Statistic: 0.203936782089111\n",
            "p-value: 0.8384034013568725\n",
            "Fail to reject null hypothesis: The means are not significantly different.\n"
          ]
        }
      ]
    },
    {
      "cell_type": "code",
      "source": [],
      "metadata": {
        "id": "K2Q72mdh61Dt"
      },
      "execution_count": null,
      "outputs": []
    }
  ]
}